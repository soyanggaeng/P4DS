{
 "cells": [
  {
   "cell_type": "code",
   "execution_count": 1,
   "metadata": {},
   "outputs": [],
   "source": [
    "from wordcloud import WordCloud\n",
    "from konlpy.tag import Okt\n",
    "import matplotlib.pyplot as plt\n",
    "import pandas as pd"
   ]
  },
  {
   "cell_type": "code",
   "execution_count": 2,
   "metadata": {},
   "outputs": [],
   "source": [
    "yc = pd.read_pickle(\"yc.pickle\")\n",
    "s = yc.loc[yc['유튜버'] == \"ITSub잇섭\"]\n",
    "okt = Okt()\n",
    "nouns = okt.nouns(' '.join(s['Comment']))\n",
    "adjectives = okt.pos(' '.join(s['Comment']), stem=True)\n",
    "adjectives = [word for word, pos in adjectives if pos == 'Adjective']\n",
    "words = nouns + adjectives\n",
    "\n",
    "wordcloud = WordCloud(font_path = './NanumGothic-Regular.ttf', width=800, height=800, background_color='white', min_font_size=10).generate(' '.join(words))\n",
    "plt.figure(figsize=(12, 12), facecolor=None)\n",
    "plt.imshow(wordcloud)\n",
    "plt.axis(\"off\")\n",
    "plt.tight_layout(pad=0)\n",
    "plt.show()"
   ]
  },
  {
   "cell_type": "code",
   "execution_count": null,
   "metadata": {},
   "outputs": [],
   "source": []
  }
 ],
 "metadata": {
  "kernelspec": {
   "display_name": "p4ds",
   "language": "python",
   "name": "python3"
  },
  "language_info": {
   "codemirror_mode": {
    "name": "ipython",
    "version": 3
   },
   "file_extension": ".py",
   "mimetype": "text/x-python",
   "name": "python",
   "nbconvert_exporter": "python",
   "pygments_lexer": "ipython3",
   "version": "3.8.16"
  },
  "orig_nbformat": 4
 },
 "nbformat": 4,
 "nbformat_minor": 2
}
